{
 "cells": [
  {
   "cell_type": "code",
   "execution_count": 1,
   "id": "7a0b8dfd-39f8-416b-a895-613af99481ff",
   "metadata": {},
   "outputs": [
    {
     "name": "stdout",
     "output_type": "stream",
     "text": [
      "Enter radius: 7\n",
      "153.86\n"
     ]
    }
   ],
   "source": [
    "\n",
    "\n",
    "radius=float(input(\"Enter radius: \"))\n",
    "pi=3.14\n",
    "area=pi*(radius**2)\n",
    "print(area)\n"
   ]
  },
  {
   "cell_type": "code",
   "execution_count": 2,
   "id": "a0ab6d2f-7ca2-4f9e-bcd8-75015319437b",
   "metadata": {},
   "outputs": [
    {
     "name": "stdout",
     "output_type": "stream",
     "text": [
      "Twinkle, twinkle, little star\n",
      "                 How I wonder what you are\n",
      "                    Up above the world so high,\n",
      "                    Like a diamond in the sky,\n",
      "Twinkle, twinkle, little star,\n",
      "        How I wonder what you are\n"
     ]
    }
   ],
   "source": [
    "\n",
    "print(\"\"\"Twinkle, twinkle, little star\n",
    "                 How I wonder what you are\n",
    "                    Up above the world so high,\n",
    "                    Like a diamond in the sky,\n",
    "Twinkle, twinkle, little star,\n",
    "        How I wonder what you are\"\"\")\n",
    "\n"
   ]
  },
  {
   "cell_type": "code",
   "execution_count": 3,
   "id": "eb7b94d1-7165-4acd-af57-c3f0a32d0c45",
   "metadata": {},
   "outputs": [
    {
     "name": "stdout",
     "output_type": "stream",
     "text": [
      "Enter first name: Ali\n",
      "Enter last name: Ahmed\n",
      "Ahmed Ali\n"
     ]
    }
   ],
   "source": [
    "\n",
    "first_name=input(\"Enter first name: \")\n",
    "last_name=input(\"Enter last name: \")\n",
    "print(last_name+\" \"+first_name)"
   ]
  },
  {
   "cell_type": "code",
   "execution_count": 4,
   "id": "84b9ee51",
   "metadata": {},
   "outputs": [
    {
     "name": "stdout",
     "output_type": "stream",
     "text": [
      "Enter first number: 8\n",
      "Enter 2nd number: 7\n",
      "15\n"
     ]
    }
   ],
   "source": [
    "\n",
    "A=int(input(\"Enter 1st number: \"))\n",
    "B=int(input(\"Enter 2nd number: \"))\n",
    "c=A+B\n",
    "print(c)\n"
   ]
  },
  {
   "cell_type": "code",
   "execution_count": 5,
   "id": "31a001cd",
   "metadata": {},
   "outputs": [
    {
     "name": "stdout",
     "output_type": "stream",
     "text": [
      "Date is 1-1-2022\n",
      "Time is 7:30 pm\n"
     ]
    }
   ],
   "source": [
    "\n",
    "date=\"1-1-2022\"\n",
    "time=\"7:30 pm\"\n",
    "print(\"Date is\",date)\n",
    "print(\"Time is\",time)\n",
    "\n",
    "\n"
   ]
  },
  {
   "cell_type": "code",
   "execution_count": 6,
   "id": "d71f2f2a",
   "metadata": {},
   "outputs": [
    {
     "name": "stdout",
     "output_type": "stream",
     "text": [
      "The version of python which we are using is 3.9\n"
     ]
    }
   ],
   "source": [
    "print(\"The version of python which we are using is\",3.9)\n"
   ]
  },
  {
   "cell_type": "code",
   "execution_count": null,
   "id": "323e70b2",
   "metadata": {},
   "outputs": [],
   "source": []
  }
 ],
 "metadata": {
  "kernelspec": {
   "display_name": "Python 3 (ipykernel)",
   "language": "python",
   "name": "python3"
  },
  "language_info": {
   "codemirror_mode": {
    "name": "ipython",
    "version": 3
   },
   "file_extension": ".py",
   "mimetype": "text/x-python",
   "name": "python",
   "nbconvert_exporter": "python",
   "pygments_lexer": "ipython3",
   "version": "3.9.7"
  }
 },
 "nbformat": 4,
 "nbformat_minor": 5
}
